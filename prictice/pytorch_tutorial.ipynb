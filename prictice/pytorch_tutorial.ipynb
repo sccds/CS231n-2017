{
 "cells": [
  {
   "cell_type": "code",
   "execution_count": 1,
   "metadata": {},
   "outputs": [],
   "source": [
    "import torch"
   ]
  },
  {
   "cell_type": "code",
   "execution_count": 14,
   "metadata": {},
   "outputs": [
    {
     "name": "stdout",
     "output_type": "stream",
     "text": [
      "tensor([[0.0000, 2.0000, 0.0000],\n",
      "        [2.0000, 0.0000, 0.0000],\n",
      "        [0.0000, 0.0000, 0.0000],\n",
      "        [0.0000, 0.0000, 0.0000],\n",
      "        [0.0000, 0.0000, 0.0000]])\n",
      "tensor([[0.9811, 0.9543, 0.9813],\n",
      "        [0.8671, 0.9784, 0.7246],\n",
      "        [0.4406, 0.5418, 0.2236],\n",
      "        [0.5895, 0.2983, 0.4081],\n",
      "        [0.9547, 0.1046, 0.6195]])\n",
      "tensor([[0, 0, 0],\n",
      "        [0, 0, 0],\n",
      "        [0, 0, 0],\n",
      "        [0, 0, 0],\n",
      "        [0, 0, 0]])\n",
      "tensor([5.5000, 3.0000])\n",
      "tensor([[1., 1., 1.],\n",
      "        [1., 1., 1.],\n",
      "        [1., 1., 1.],\n",
      "        [1., 1., 1.],\n",
      "        [1., 1., 1.]], dtype=torch.float64)\n",
      "tensor([[-0.2007, -0.2553, -0.6381],\n",
      "        [ 1.1876, -1.0125,  1.3460],\n",
      "        [ 1.7353, -0.1640,  0.2873],\n",
      "        [ 0.9033,  1.3169,  0.8794],\n",
      "        [ 0.2787,  0.6975, -0.0044]])\n",
      "torch.Size([5, 3])\n"
     ]
    }
   ],
   "source": [
    "x = torch.empty(5, 3)\n",
    "print(x)\n",
    "\n",
    "x = torch.rand(5, 3)\n",
    "print(x)\n",
    "\n",
    "x = torch.zeros(5, 3, dtype=torch.long)\n",
    "print(x)\n",
    "\n",
    "x = torch.tensor([5.5, 3])\n",
    "print(x)\n",
    "\n",
    "x = x.new_ones(5, 3, dtype=torch.double)\n",
    "print(x)\n",
    "\n",
    "x = torch.randn_like(x, dtype=torch.float)\n",
    "print(x)\n",
    "print(x.size())"
   ]
  },
  {
   "cell_type": "code",
   "execution_count": 16,
   "metadata": {},
   "outputs": [
    {
     "name": "stdout",
     "output_type": "stream",
     "text": [
      "tensor([[-0.1918,  0.5472, -0.5086],\n",
      "        [ 1.6827, -0.8488,  1.5735],\n",
      "        [ 1.8569, -0.1048,  0.8592],\n",
      "        [ 1.3153,  2.2472,  1.7646],\n",
      "        [ 1.2612,  1.5839,  0.9377]])\n",
      "tensor([[-0.1918,  0.5472, -0.5086],\n",
      "        [ 1.6827, -0.8488,  1.5735],\n",
      "        [ 1.8569, -0.1048,  0.8592],\n",
      "        [ 1.3153,  2.2472,  1.7646],\n",
      "        [ 1.2612,  1.5839,  0.9377]])\n"
     ]
    }
   ],
   "source": [
    "y = torch.rand(5, 3)\n",
    "print(x + y)\n",
    "print(torch.add(x, y))"
   ]
  },
  {
   "cell_type": "code",
   "execution_count": 19,
   "metadata": {},
   "outputs": [
    {
     "name": "stdout",
     "output_type": "stream",
     "text": [
      "tensor([[-0.3925,  0.2919, -1.1467],\n",
      "        [ 2.8702, -1.8613,  2.9195],\n",
      "        [ 3.5922, -0.2688,  1.1465],\n",
      "        [ 2.2186,  3.5642,  2.6440],\n",
      "        [ 1.5399,  2.2814,  0.9332]])\n",
      "tensor([[-0.3925,  0.2919, -1.1467],\n",
      "        [ 2.8702, -1.8613,  2.9195],\n",
      "        [ 3.5922, -0.2688,  1.1465],\n",
      "        [ 2.2186,  3.5642,  2.6440],\n",
      "        [ 1.5399,  2.2814,  0.9332]])\n",
      "tensor([-0.2553, -1.0125, -0.1640,  1.3169,  0.6975])\n"
     ]
    }
   ],
   "source": [
    "result = torch.empty(5, 3)\n",
    "torch.add(x, y, out=result)\n",
    "print(result)\n",
    "\n",
    "y.add_(x)\n",
    "print(y)\n",
    "\n",
    "print(x[:, 1])"
   ]
  },
  {
   "cell_type": "code",
   "execution_count": 21,
   "metadata": {},
   "outputs": [
    {
     "name": "stdout",
     "output_type": "stream",
     "text": [
      "tensor([[ 0.1579, -0.0260, -0.9140,  0.2181],\n",
      "        [-0.6974, -0.7706,  0.0563,  2.5474],\n",
      "        [-0.1303,  1.1411, -0.0719, -0.9253],\n",
      "        [-0.7885, -0.6436, -1.3401,  0.2429]])\n",
      "tensor([ 0.1579, -0.0260, -0.9140,  0.2181, -0.6974, -0.7706,  0.0563,  2.5474,\n",
      "        -0.1303,  1.1411, -0.0719, -0.9253, -0.7885, -0.6436, -1.3401,  0.2429])\n",
      "tensor([[ 0.1579, -0.0260, -0.9140,  0.2181, -0.6974, -0.7706,  0.0563,  2.5474],\n",
      "        [-0.1303,  1.1411, -0.0719, -0.9253, -0.7885, -0.6436, -1.3401,  0.2429]])\n",
      "torch.Size([4, 4]) torch.Size([16]) torch.Size([2, 8])\n"
     ]
    }
   ],
   "source": [
    "x = torch.randn(4, 4)\n",
    "y = x.view(16)\n",
    "z = x.view(-1, 8)\n",
    "print(x)\n",
    "print(y)\n",
    "print(z)\n",
    "print(x.size(), y.size(), z.size())"
   ]
  },
  {
   "cell_type": "code",
   "execution_count": 22,
   "metadata": {},
   "outputs": [
    {
     "name": "stdout",
     "output_type": "stream",
     "text": [
      "tensor([0.2589])\n",
      "0.2588639557361603\n"
     ]
    }
   ],
   "source": [
    "x = torch.randn(1)\n",
    "print(x)\n",
    "print(x.item())"
   ]
  },
  {
   "cell_type": "code",
   "execution_count": 23,
   "metadata": {},
   "outputs": [
    {
     "name": "stdout",
     "output_type": "stream",
     "text": [
      "tensor([1., 1., 1., 1., 1.])\n",
      "[1. 1. 1. 1. 1.]\n"
     ]
    }
   ],
   "source": [
    "a = torch.ones(5)\n",
    "print(a)\n",
    "\n",
    "b = a.numpy()\n",
    "print(b)"
   ]
  },
  {
   "cell_type": "code",
   "execution_count": 24,
   "metadata": {},
   "outputs": [
    {
     "name": "stdout",
     "output_type": "stream",
     "text": [
      "tensor([2., 2., 2., 2., 2.])\n",
      "[2. 2. 2. 2. 2.]\n"
     ]
    }
   ],
   "source": [
    "a.add_(1)\n",
    "print(a)\n",
    "print(b)"
   ]
  },
  {
   "cell_type": "code",
   "execution_count": 25,
   "metadata": {},
   "outputs": [
    {
     "name": "stdout",
     "output_type": "stream",
     "text": [
      "[2. 2. 2. 2. 2.]\n",
      "tensor([2., 2., 2., 2., 2.], dtype=torch.float64)\n"
     ]
    }
   ],
   "source": [
    "import numpy as np\n",
    "\n",
    "a = np.ones(5)\n",
    "b = torch.from_numpy(a)\n",
    "np.add(a, 1, out=a)\n",
    "print(a)\n",
    "print(b)"
   ]
  },
  {
   "cell_type": "code",
   "execution_count": 26,
   "metadata": {},
   "outputs": [],
   "source": [
    "if torch.cuda.is_available():\n",
    "    device = torch.device(\"cuda\")\n",
    "    y = torch.ones_like(x, device=device)\n",
    "    x = x.to(device)\n",
    "    z = x + y\n",
    "    print(z)\n",
    "    print(z.to(\"cpu\", torch.double))\n",
    "    "
   ]
  },
  {
   "cell_type": "code",
   "execution_count": null,
   "metadata": {},
   "outputs": [],
   "source": []
  }
 ],
 "metadata": {
  "kernelspec": {
   "display_name": "Python 3",
   "language": "python",
   "name": "python3"
  },
  "language_info": {
   "codemirror_mode": {
    "name": "ipython",
    "version": 3
   },
   "file_extension": ".py",
   "mimetype": "text/x-python",
   "name": "python",
   "nbconvert_exporter": "python",
   "pygments_lexer": "ipython3",
   "version": "3.7.0"
  }
 },
 "nbformat": 4,
 "nbformat_minor": 2
}
